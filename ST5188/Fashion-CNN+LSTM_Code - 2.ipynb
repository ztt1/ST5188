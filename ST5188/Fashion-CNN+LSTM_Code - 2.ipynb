{
 "cells": [
  {
   "cell_type": "code",
   "execution_count": 1,
   "id": "3c104d7b",
   "metadata": {},
   "outputs": [],
   "source": [
    "import torch\n",
    "from torch import nn, optim\n",
    "from torch.utils.data import DataLoader\n",
    "from torchvision import datasets\n",
    "from torchvision.transforms import transforms\n",
    "import torchvision\n",
    "import numpy as np\n",
    "import matplotlib.pyplot as plt\n",
    "import os\n",
    "import argparse\n",
    "from sklearn.metrics import *\n",
    "%matplotlib inline\n",
    "os.environ['KMP_DUPLICATE_LIB_OK']='True'\n",
    "\n",
    "\n",
    "# define the hyper-parameters\n",
    "batch_size = 1000\n",
    "learning_rate = 1e-3\n",
    "num_epoches = 70\n",
    "loss_list = [] #  save loss\n",
    "accuracy_list = [] # save accuracy\n",
    "iteration_list = []\n",
    "\n",
    "\n",
    "output_prob = []"
   ]
  },
  {
   "cell_type": "code",
   "execution_count": 2,
   "id": "6d700435",
   "metadata": {},
   "outputs": [],
   "source": [
    "# download the FashionMNIST dataset\n",
    "\n",
    "train_dataset = datasets.FashionMNIST(\n",
    "    root='./data/FashionMNIST', train=True, transform=transforms.ToTensor(), download=True)\n",
    "\n",
    "test_dataset = datasets.FashionMNIST(\n",
    "    root='./data/FashionMNIST', train=False, transform=transforms.ToTensor(),\n",
    "    download=True)\n",
    "\n",
    "train_loader = DataLoader(train_dataset, batch_size=batch_size, shuffle=False)\n",
    "test_loader = DataLoader(test_dataset, batch_size=batch_size, shuffle=False)"
   ]
  },
  {
   "cell_type": "code",
   "execution_count": 3,
   "id": "fecd4c6c",
   "metadata": {},
   "outputs": [
    {
     "name": "stdout",
     "output_type": "stream",
     "text": [
      "['T-shirt/top', 'Trouser', 'Pullover', 'Dress', 'Coat', 'Sandal', 'Shirt', 'Sneaker', 'Bag', 'Ankle boot']\n",
      "torch.Size([60000, 28, 28])\n",
      "torch.Size([10000, 28, 28])\n"
     ]
    }
   ],
   "source": [
    "# check the class types and labels\n",
    "\n",
    "class_names = train_dataset.classes \n",
    "print(class_names)\n",
    "print(train_dataset.data.shape)\n",
    "print(test_dataset.data.shape)"
   ]
  },
  {
   "cell_type": "code",
   "execution_count": 4,
   "id": "b0b28a78",
   "metadata": {},
   "outputs": [],
   "source": [
    "BATCH_SIZE = 32 \n",
    "EPOCHS = 1"
   ]
  },
  {
   "cell_type": "code",
   "execution_count": 5,
   "id": "32116fc9",
   "metadata": {},
   "outputs": [],
   "source": [
    "#computing vector embeddings for finite sets of items.\n",
    "\n",
    "import pymde\n",
    "\n",
    "fashion_mnist = pymde.datasets.FashionMNIST()\n",
    "# embedding = pymde.preserve_neighbors(fashion_mnist.data, verbose=True).embed()\n",
    "# pymde.plot(embedding, color_by=fashion_mnist.attributes['class'])"
   ]
  },
  {
   "cell_type": "code",
   "execution_count": 6,
   "id": "4577fe3c",
   "metadata": {},
   "outputs": [
    {
     "data": {
      "text/plain": [
       "<pymde.datasets.Dataset at 0x20a41e3b820>"
      ]
     },
     "execution_count": 6,
     "metadata": {},
     "output_type": "execute_result"
    }
   ],
   "source": [
    "fashion_mnist"
   ]
  },
  {
   "cell_type": "code",
   "execution_count": 7,
   "id": "be4c2e3a",
   "metadata": {},
   "outputs": [
    {
     "data": {
      "image/png": "[encoded data removed]",
      "text/plain": [
       "<Figure size 432x288 with 1 Axes>"
      ]
     },
     "metadata": {
      "needs_background": "light"
     },
     "output_type": "display_data"
    }
   ],
   "source": [
    "images, labels = next(iter(test_loader))\n",
    "\n",
    "#  show some samples of data \n",
    "\n",
    "def imshow(inp, title=None):\n",
    "    inp = inp.numpy().transpose((1, 2, 0))\n",
    "    mean = np.array([0.485, 0.456, 0.406]) \n",
    "    std = np.array([0.229, 0.224, 0.225]) \n",
    "    inp = std * inp + mean\n",
    "    inp = np.clip(inp, 0, 1) \n",
    "    plt.imshow(inp)\n",
    "    if title is not None:\n",
    "        plt.title(title)\n",
    "    plt.pause(0.001)\n",
    "    \n",
    "    \n",
    "out = torchvision.utils.make_grid(images)\n",
    "\n",
    "imshow(out)"
   ]
  },
  {
   "cell_type": "code",
   "execution_count": 8,
   "id": "f10afe47",
   "metadata": {},
   "outputs": [],
   "source": [
    "import torch.nn.functional as F\n",
    "\n",
    "# define the CNN model\n",
    "class LeNetVariant(nn.Module):\n",
    "    def __init__(self):\n",
    "        super(LeNetVariant, self).__init__()\n",
    "        self.features = nn.Sequential(\n",
    "            nn.Conv2d(1, 16, kernel_size=5),\n",
    "            nn.ReLU(inplace=True),\n",
    "            nn.MaxPool2d(2),\n",
    "            nn.Conv2d(16, 32, kernel_size=5),\n",
    "            nn.ReLU(inplace=True),\n",
    "            nn.MaxPool2d(2),\n",
    "            nn.Dropout2d()\n",
    "        )\n",
    "        self.classifier = nn.Sequential(nn.Linear(32 * 4 * 4, 32))\n",
    "\n",
    "    def forward(self, x):\n",
    "        x = self.features(x)\n",
    "        x = x.view(-1, 32 * 4 * 4 )\n",
    "        x = self.classifier(x)\n",
    "        return x\n",
    "\n",
    "# define the CNN+LSTM model\n",
    "class CNNLSTM(nn.Module):\n",
    "    def __init__(self, num_classes=2):\n",
    "        super(CNNLSTM, self).__init__()\n",
    "        self.cnn = LeNetVariant()\n",
    "        self.lstm = nn.LSTM(input_size=32, hidden_size=160, num_layers=1,\n",
    "                            batch_first=True)\n",
    "        self.fc1 = nn.Linear(160, num_classes)\n",
    "\n",
    "    def forward(self, x_3d):\n",
    "        cnn_output_list = list()\n",
    "        for t in range(x_3d.size(1)):\n",
    "            cnn_output_list.append(self.cnn(x_3d[:, t, :, :, :]))\n",
    "        x = torch.stack(tuple(cnn_output_list), dim=1)\n",
    "        out, hidden = self.lstm(x)\n",
    "        x = out[:, -1, :]\n",
    "        x = F.relu(x)\n",
    "        x = self.fc1(x)\n",
    "        return F.log_softmax(x, dim=1)"
   ]
  },
  {
   "cell_type": "code",
   "execution_count": 9,
   "id": "ba62cc99",
   "metadata": {},
   "outputs": [],
   "source": [
    "# define the train steps\n",
    "def train_loop(dataloader, model, loss_fn, optimizer, which_model):\n",
    "    size = len(dataloader.dataset)\n",
    "    for batch, (X, y) in enumerate(dataloader):\n",
    "        X = X.unsqueeze(1)\n",
    "        # Compute prediction and loss\n",
    "        pred = model(X)\n",
    "        loss = loss_fn(pred, y)\n",
    "        \n",
    "        # Backpropagation\n",
    "        optimizer.zero_grad()\n",
    "        loss.backward()\n",
    "        optimizer.step()\n",
    "        \n",
    "        if batch % 50 == 0:\n",
    "            loss, current = loss.item(), batch * len(X)\n",
    "            print(f\"loss: {loss:>7f}  [{current:>5d}/{size:>5d}]\")\n",
    "        \n",
    "\n",
    "# define the test steps\n",
    "def test_loop(dataloader, model, loss_fn, which_model):\n",
    "    size = len(dataloader.dataset)\n",
    "    num_batches = len(dataloader)\n",
    "    test_loss, correct = 0, 0\n",
    "\n",
    "    with torch.no_grad():\n",
    "        for X, y in dataloader:\n",
    "        \n",
    "            X = X.unsqueeze(1)\n",
    "            pred = model(X)\n",
    "            output_prob.append(pred.tolist())\n",
    "            \n",
    "            test_loss += loss_fn(pred, y).item()\n",
    "            correct += (pred.argmax(1) == y).type(torch.float).sum().item()\n",
    "\n",
    "    test_loss /= num_batches\n",
    "    correct /= size\n",
    "    loss_list.append(test_loss)\n",
    "    accuracy_list.append(correct * 100)\n",
    "    \n",
    "    print(f\"Test Error: \\n Accuracy: {(100 * correct):>0.2f}%, \"\n",
    "          f\"Avg loss: {test_loss:>8f} \\n\")"
   ]
  },
  {
   "cell_type": "code",
   "execution_count": 10,
   "id": "2ead6cf1",
   "metadata": {},
   "outputs": [
    {
     "name": "stdout",
     "output_type": "stream",
     "text": [
      "Epoch 1\n",
      "-------------------------------\n",
      "loss: 2.302523  [    0/60000]\n",
      "loss: 1.124304  [50000/60000]\n",
      "Test Error: \n",
      " Accuracy: 62.31%, Avg loss: 1.054696 \n",
      "\n",
      "Done!\n",
      "Epoch 2\n",
      "-------------------------------\n",
      "loss: 1.025688  [    0/60000]\n",
      "loss: 0.770436  [50000/60000]\n",
      "Test Error: \n",
      " Accuracy: 72.40%, Avg loss: 0.752992 \n",
      "\n",
      "Done!\n",
      "Saved PyTorch Model State to cnnlstm.pth\n"
     ]
    }
   ],
   "source": [
    "# Start to train the model\n",
    "device = \"cuda\" if torch.cuda.is_available() else \"cpu\"\n",
    "model = CNNLSTM(num_classes=10).to(device)\n",
    "loss_fn = nn.CrossEntropyLoss()\n",
    "optimizer = optim.Adam(model.parameters(), lr=learning_rate)\n",
    "\n",
    "\n",
    "for t in range(num_epoches):\n",
    "    print(f\"Epoch {t + 1}\\n-------------------------------\")\n",
    "    train_loop(train_loader, model, loss_fn, optimizer, 2)\n",
    "    test_loop(test_loader, model, loss_fn, 2)\n",
    "    print(\"Done!\")\n",
    "    \n",
    "    \n",
    "# Save Models\n",
    "torch.save(model.state_dict(), \"cnnlstm.pth\")\n",
    "print(\"Saved PyTorch Model State to cnnlstm.pth\")"
   ]
  },
  {
   "cell_type": "code",
   "execution_count": 11,
   "id": "545534cd",
   "metadata": {},
   "outputs": [
    {
     "data": {
      "image/png": "[encoded data removed]",
      "text/plain": [
       "<Figure size 432x288 with 1 Axes>"
      ]
     },
     "metadata": {
      "needs_background": "light"
     },
     "output_type": "display_data"
    }
   ],
   "source": [
    "# draw the graph of the loss\n",
    "\n",
    "for i in range(num_epoches):\n",
    "    iteration_list.append(i+1)\n",
    "\n",
    "plt.plot(iteration_list, loss_list)\n",
    "plt.xlabel('Number of Epoches')\n",
    "plt.ylabel('Loss')\n",
    "plt.title('CNN_LSTM')\n",
    "plt.show()"
   ]
  },
  {
   "cell_type": "code",
   "execution_count": 12,
   "id": "4c4b9f40",
   "metadata": {},
   "outputs": [
    {
     "data": {
      "image/png": "[encoded data removed]",
      "text/plain": [
       "<Figure size 432x288 with 1 Axes>"
      ]
     },
     "metadata": {
      "needs_background": "light"
     },
     "output_type": "display_data"
    }
   ],
   "source": [
    "# draw the graph of the accuracy\n",
    "\n",
    "plt.plot(iteration_list, accuracy_list, color='b')\n",
    "plt.xlabel('Number of Epoches')\n",
    "plt.ylabel('Accuracy')\n",
    "plt.title('CNN_LSTM')\n",
    "#plt.savefig('LSTM_accuracy2.png')\n",
    "plt.show()"
   ]
  },
  {
   "cell_type": "code",
   "execution_count": 13,
   "id": "ed9252ac",
   "metadata": {},
   "outputs": [
    {
     "name": "stdout",
     "output_type": "stream",
     "text": [
      "Confusion matrix:\n",
      "[[750   2  31 130  26   5  42   0  14   0]\n",
      " [ 13 911   5  55   8   1   6   0   1   0]\n",
      " [ 12   0 450  15 445   0  65   0  13   0]\n",
      " [ 55  12   6 809  90   1  22   0   5   0]\n",
      " [  2   1 125  71 752   0  38   0  11   0]\n",
      " [  0   0   0   3   0 878   0  83   8  28]\n",
      " [206   1 274  91 325   0  77   0  26   0]\n",
      " [  0   0   0   0   0  68   0 833   1  98]\n",
      " [  1   3  14   9  28   8   6   3 926   2]\n",
      " [  0   0   0   1   0  16   0  39   1 943]]\n",
      "F1 score: 0.732900\n",
      "Accuracy score: 0.732900\n",
      "Recall score: 0.732900\n",
      "Precision score: 0.720109\n"
     ]
    }
   ],
   "source": [
    "# Compute the confusion matrix and F1_score, Acc, Recall_rate, and Precision\n",
    "\n",
    "def test_label_predictions(model, device, test_loader):\n",
    "    model.eval()\n",
    "    actuals = []\n",
    "    predictions = []\n",
    "    with torch.no_grad():\n",
    "        for data, target in test_loader:\n",
    "            \n",
    "            data = data.unsqueeze(1)\n",
    "            output = model(data)\n",
    "            prediction = output.argmax(dim=1, keepdim=True)\n",
    "            actuals.extend(target.view_as(prediction))\n",
    "            predictions.extend(prediction)\n",
    "    return [i.item() for i in actuals], [i.item() for i in predictions]\n",
    "\n",
    "actuals, predictions = test_label_predictions(model, device, test_loader)\n",
    "k = confusion_matrix(actuals, predictions)\n",
    "print('Confusion matrix:')\n",
    "print(k)\n",
    "print('F1 score: %f' % f1_score(actuals, predictions, average='micro'))\n",
    "print('Accuracy score: %f' % accuracy_score(actuals, predictions))\n",
    "print('Recall score: %f' % recall_score(actuals, predictions, average='micro'))\n",
    "print('Precision score: %f' % precision_score(actuals, predictions, average='weighted'))"
   ]
  },
  {
   "cell_type": "code",
   "execution_count": 14,
   "id": "0e7aca45",
   "metadata": {},
   "outputs": [
    {
     "data": {
      "text/plain": [
       "(10000,)"
      ]
     },
     "execution_count": 14,
     "metadata": {},
     "output_type": "execute_result"
    }
   ],
   "source": [
    "np.shape(predictions)"
   ]
  },
  {
   "cell_type": "code",
   "execution_count": 16,
   "id": "d41d7647",
   "metadata": {},
   "outputs": [
    {
     "data": {
      "text/plain": [
       "(20, 1000, 10)"
      ]
     },
     "execution_count": 16,
     "metadata": {},
     "output_type": "execute_result"
    }
   ],
   "source": [
    "np.shape(output_prob)"
   ]
  },
  {
   "cell_type": "code",
   "execution_count": 20,
   "id": "d69554aa",
   "metadata": {},
   "outputs": [],
   "source": [
    "out_prob = np.reshape(output_prob[(num_epoches-1)*10:num_epoches*10][:][:],(-1, 10))"
   ]
  },
  {
   "cell_type": "code",
   "execution_count": 21,
   "id": "f4a09d80",
   "metadata": {},
   "outputs": [
    {
     "data": {
      "text/plain": [
       "(10000, 10)"
      ]
     },
     "execution_count": 21,
     "metadata": {},
     "output_type": "execute_result"
    }
   ],
   "source": [
    "np.shape(out_prob)"
   ]
  },
  {
   "cell_type": "code",
   "execution_count": 22,
   "id": "276b58cc",
   "metadata": {},
   "outputs": [],
   "source": [
    "import pandas as pd\n",
    "out_prob = pd.DataFrame(out_prob)"
   ]
  },
  {
   "cell_type": "code",
   "execution_count": 24,
   "id": "81a55354",
   "metadata": {},
   "outputs": [],
   "source": [
    "actuals = pd.DataFrame(actuals)\n",
    "actuals.to_csv('actual_label_LSTM.csv', sep = ',')"
   ]
  },
  {
   "cell_type": "code",
   "execution_count": 25,
   "id": "756f88b4",
   "metadata": {},
   "outputs": [],
   "source": [
    "np.exp(out_prob).to_csv('output_prob_LSTM.csv', sep = ',')"
   ]
  },
  {
   "cell_type": "code",
   "execution_count": null,
   "id": "c7bb4700",
   "metadata": {},
   "outputs": [],
   "source": [
    "print(classification_report(actuals, predictions))"
   ]
  },
  {
   "cell_type": "code",
   "execution_count": null,
   "id": "dd2775f5",
   "metadata": {},
   "outputs": [],
   "source": [
    "#draw the heatmap of confusion matrix\n",
    "\n",
    "import pandas as pd\n",
    "import seaborn as sns\n",
    "# Display the confusion matrix as a heatmap\n",
    "class_names = ['T-shirt/top', 'Trouser', 'Pullover', '  Dress', ' Coat', '  Sandal', ' Shirt', 'Sneaker', ' Bag', 'Ankle boot']\n",
    "df_cm = pd.DataFrame(k, class_names, class_names)\n",
    "plt.figure(figsize = (9,6))\n",
    "sns.heatmap(df_cm, annot=True, fmt=\"d\", cmap='BuGn')\n",
    "plt.xlabel(\"Predicted label\")\n",
    "plt.ylabel(\"Truelabel\")\n",
    "plt.title(\"confusion matrix\")\n",
    "plt.show()"
   ]
  },
  {
   "cell_type": "code",
   "execution_count": null,
   "id": "01c80cb6",
   "metadata": {
    "scrolled": true
   },
   "outputs": [],
   "source": [
    "#check the ROC and AUROC of a class\n",
    "\n",
    "import numpy as np\n",
    "\n",
    "\n",
    "which_class = 6\n",
    "def test_class_probabilities(model, device, test_loader, which_class):\n",
    "    model.eval()\n",
    "    actuals = []\n",
    "    probabilities = []\n",
    "    with torch.no_grad():\n",
    "        for data, target in test_loader:\n",
    "            data = data.unsqueeze(1)\n",
    "            output = model(data)\n",
    "            prediction = output.argmax(dim=1, keepdim=True)\n",
    "            #setting the target tensor size to same as prediction tensor size\n",
    "            actuals.extend(target.view_as(prediction) == which_class)\n",
    "            probabilities.extend(np.exp(output[:, which_class]))\n",
    "    return [i.item() for i in actuals], [i.item() for i in probabilities]\n",
    "\n",
    "actuals, class_probabilities = test_class_probabilities(model, device, test_loader, which_class)\n",
    "\n",
    "fpr, tpr, _ = roc_curve(actuals, class_probabilities)\n",
    "roc_auc = auc(fpr, tpr) #Compute the area under the ROC curve.\n",
    "print('The area under the ROC curve: %f' % roc_auc)\n",
    "plt.figure()\n",
    "lw = 2\n",
    "plt.plot(fpr, tpr, color='darkorange',\n",
    "         lw=lw, label='ROC curve (area = %0.2f)' % roc_auc)\n",
    "plt.plot([0, 1], [0, 1], color='navy', lw=lw, linestyle='--')\n",
    "plt.xlim([0.0, 1.0])\n",
    "plt.ylim([0.0, 1.05])\n",
    "plt.xlabel('False Positive Rate')\n",
    "plt.ylabel('True Positive Rate')\n",
    "plt.title('Receiver Operating Characteristic (ROC) for digit=%d class' % which_class)\n",
    "plt.legend(loc=\"lower right\")\n",
    "plt.show()\n",
    "#plt.savefig(\"ROC.png\")"
   ]
  },
  {
   "cell_type": "code",
   "execution_count": null,
   "id": "e1946277",
   "metadata": {},
   "outputs": [],
   "source": [
    "# fashion_mnist = pymde.datasets.FashionMNIST()\n",
    "# embedding = pymde.preserve_neighbors(fashion_mnist.data, verbose=True).embed()\n",
    "# pymde.plot(embedding, color_by=mnist.attributes['class'])"
   ]
  },
  {
   "cell_type": "code",
   "execution_count": null,
   "id": "c7f4383d",
   "metadata": {},
   "outputs": [],
   "source": []
  },
  {
   "cell_type": "code",
   "execution_count": null,
   "id": "f76e6c9d",
   "metadata": {},
   "outputs": [],
   "source": []
  },
  {
   "cell_type": "code",
   "execution_count": null,
   "id": "6e5b6d73",
   "metadata": {},
   "outputs": [],
   "source": []
  },
  {
   "cell_type": "code",
   "execution_count": null,
   "id": "ebff8032",
   "metadata": {},
   "outputs": [],
   "source": []
  }
 ],
 "metadata": {
  "kernelspec": {
   "display_name": "Python 3 (ipykernel)",
   "language": "python",
   "name": "python3"
  },
  "language_info": {
   "codemirror_mode": {
    "name": "ipython",
    "version": 3
   },
   "file_extension": ".py",
   "mimetype": "text/x-python",
   "name": "python",
   "nbconvert_exporter": "python",
   "pygments_lexer": "ipython3",
   "version": "3.9.12"
  }
 },
 "nbformat": 4,
 "nbformat_minor": 5
}
