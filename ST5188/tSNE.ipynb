{
 "cells": [
  {
   "cell_type": "code",
   "execution_count": 1,
   "id": "2ab5d46a",
   "metadata": {},
   "outputs": [],
   "source": [
    "# import modules\n",
    "from openTSNE import TSNE \n",
    "import pandas as pd\n",
    "import matplotlib.pyplot as plt\n",
    "from matplotlib.pyplot import cm\n",
    "import numpy as np\n",
    "import seaborn as sns\n",
    "import openTSNE\n",
    "#from examples import utils\n",
    "\n",
    "%config InlineBackend.figure_format = 'retina'\n",
    "%config InlineBackend.print_figure_kwargs = {'facecolor' :\"w\"}"
   ]
  },
  {
   "cell_type": "code",
   "execution_count": 2,
   "id": "1dc98f7e",
   "metadata": {},
   "outputs": [],
   "source": [
    "# import dataset\n",
    "model_result = pd.read_csv('C:\\\\Users\\\\e0431401\\\\Desktop\\\\LXW\\\\output_ag3.csv')\n",
    "#train = pd.read_csv('C:\\\\Users\\\\e0431401\\\\Downloads\\\\archive\\\\fashion-mnist_train.csv')\n",
    "#test = pd.read_csv('C:\\\\Users\\\\e0431401\\\\Downloads\\\\archive\\\\fashion-mnist_test.csv')"
   ]
  },
  {
   "cell_type": "code",
   "execution_count": 4,
   "id": "c65f2be8",
   "metadata": {},
   "outputs": [
    {
     "data": {
      "text/plain": [
       "(60000, 785)"
      ]
     },
     "execution_count": 4,
     "metadata": {},
     "output_type": "execute_result"
    }
   ],
   "source": [
    "np.shape(train)"
   ]
  },
  {
   "cell_type": "code",
   "execution_count": 5,
   "id": "e0f84ef6",
   "metadata": {},
   "outputs": [
    {
     "data": {
      "text/plain": [
       "(10000, 785)"
      ]
     },
     "execution_count": 5,
     "metadata": {},
     "output_type": "execute_result"
    }
   ],
   "source": [
    "np.shape(test)"
   ]
  },
  {
   "cell_type": "code",
   "execution_count": 3,
   "id": "4fc892f1",
   "metadata": {},
   "outputs": [
    {
     "data": {
      "text/plain": [
       "(10000, 10)"
      ]
     },
     "execution_count": 3,
     "metadata": {},
     "output_type": "execute_result"
    }
   ],
   "source": [
    "np.shape(model_result)"
   ]
  },
  {
   "cell_type": "code",
   "execution_count": 4,
   "id": "6fd12627",
   "metadata": {},
   "outputs": [
    {
     "data": {
      "text/html": [
       "<div>\n",
       "<style scoped>\n",
       "    .dataframe tbody tr th:only-of-type {\n",
       "        vertical-align: middle;\n",
       "    }\n",
       "\n",
       "    .dataframe tbody tr th {\n",
       "        vertical-align: top;\n",
       "    }\n",
       "\n",
       "    .dataframe thead th {\n",
       "        text-align: right;\n",
       "    }\n",
       "</style>\n",
       "<table border=\"1\" class=\"dataframe\">\n",
       "  <thead>\n",
       "    <tr style=\"text-align: right;\">\n",
       "      <th></th>\n",
       "      <th>0</th>\n",
       "      <th>1</th>\n",
       "      <th>2</th>\n",
       "      <th>3</th>\n",
       "      <th>4</th>\n",
       "      <th>5</th>\n",
       "      <th>6</th>\n",
       "      <th>7</th>\n",
       "      <th>8</th>\n",
       "      <th>9</th>\n",
       "    </tr>\n",
       "  </thead>\n",
       "  <tbody>\n",
       "    <tr>\n",
       "      <th>0</th>\n",
       "      <td>0.000002</td>\n",
       "      <td>1.140000e-07</td>\n",
       "      <td>5.220000e-07</td>\n",
       "      <td>1.600000e-07</td>\n",
       "      <td>9.550000e-07</td>\n",
       "      <td>3.900180e-04</td>\n",
       "      <td>2.220000e-07</td>\n",
       "      <td>3.792241e-03</td>\n",
       "      <td>0.000012</td>\n",
       "      <td>9.973187e-01</td>\n",
       "    </tr>\n",
       "    <tr>\n",
       "      <th>1</th>\n",
       "      <td>0.000580</td>\n",
       "      <td>5.430000e-08</td>\n",
       "      <td>9.966797e-01</td>\n",
       "      <td>1.950000e-06</td>\n",
       "      <td>7.829630e-03</td>\n",
       "      <td>3.000000e-08</td>\n",
       "      <td>5.269100e-04</td>\n",
       "      <td>8.180000e-10</td>\n",
       "      <td>0.000012</td>\n",
       "      <td>4.540000e-07</td>\n",
       "    </tr>\n",
       "  </tbody>\n",
       "</table>\n",
       "</div>"
      ],
      "text/plain": [
       "          0             1             2             3             4  \\\n",
       "0  0.000002  1.140000e-07  5.220000e-07  1.600000e-07  9.550000e-07   \n",
       "1  0.000580  5.430000e-08  9.966797e-01  1.950000e-06  7.829630e-03   \n",
       "\n",
       "              5             6             7         8             9  \n",
       "0  3.900180e-04  2.220000e-07  3.792241e-03  0.000012  9.973187e-01  \n",
       "1  3.000000e-08  5.269100e-04  8.180000e-10  0.000012  4.540000e-07  "
      ]
     },
     "execution_count": 4,
     "metadata": {},
     "output_type": "execute_result"
    }
   ],
   "source": [
    "\n",
    "X = model_result\n",
    "X.head(2)"
   ]
  },
  {
   "cell_type": "code",
   "execution_count": 5,
   "id": "1fba5625",
   "metadata": {},
   "outputs": [],
   "source": [
    "X = np.array(X)\n",
    "#Y = np.array(Y)"
   ]
  },
  {
   "cell_type": "code",
   "execution_count": 6,
   "id": "03b6bc39",
   "metadata": {},
   "outputs": [
    {
     "data": {
      "text/plain": [
       "(10000, 10)"
      ]
     },
     "execution_count": 6,
     "metadata": {},
     "output_type": "execute_result"
    }
   ],
   "source": [
    "X.shape\n"
   ]
  },
  {
   "cell_type": "code",
   "execution_count": 7,
   "id": "5b3d2850",
   "metadata": {},
   "outputs": [
    {
     "name": "stdout",
     "output_type": "stream",
     "text": [
      "Wall time: 38.3 s\n"
     ]
    }
   ],
   "source": [
    "%%time\n",
    "embedding_train = TSNE(\n",
    "    perplexity = 81, \n",
    "    initialization = 'pca', \n",
    "    metric = 'euclidean', \n",
    "    n_jobs = 8, \n",
    "    random_state = 3).fit(X)\n",
    "\n",
    "## perlpexity should be log(n)^2, n is datasize"
   ]
  },
  {
   "cell_type": "code",
   "execution_count": 9,
   "id": "53e06f57",
   "metadata": {},
   "outputs": [],
   "source": [
    "# t-SNE plot\n",
    "embedding_train = pd.DataFrame(embedding_train)\n",
    "\n",
    "type(embedding_train)\n",
    "embedding_train.to_csv('C:\\\\Users\\\\e0431401\\\\Desktop\\\\LXW\\\\em_test_ag3.csv') "
   ]
  },
  {
   "cell_type": "code",
   "execution_count": 171,
   "id": "83f5d6c2",
   "metadata": {},
   "outputs": [],
   "source": []
  },
  {
   "cell_type": "code",
   "execution_count": 173,
   "id": "eea5abe6",
   "metadata": {},
   "outputs": [],
   "source": []
  },
  {
   "cell_type": "code",
   "execution_count": null,
   "id": "216eb43e",
   "metadata": {},
   "outputs": [],
   "source": []
  }
 ],
 "metadata": {
  "kernelspec": {
   "display_name": "Python 3 (ipykernel)",
   "language": "python",
   "name": "python3"
  },
  "language_info": {
   "codemirror_mode": {
    "name": "ipython",
    "version": 3
   },
   "file_extension": ".py",
   "mimetype": "text/x-python",
   "name": "python",
   "nbconvert_exporter": "python",
   "pygments_lexer": "ipython3",
   "version": "3.9.12"
  }
 },
 "nbformat": 4,
 "nbformat_minor": 5
}
