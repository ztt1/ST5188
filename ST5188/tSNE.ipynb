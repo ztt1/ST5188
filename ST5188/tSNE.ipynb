{
 "cells": [
  {
   "cell_type": "code",
   "execution_count": 1,
   "id": "2ab5d46a",
   "metadata": {},
   "outputs": [],
   "source": [
    "# import modules\n",
    "from openTSNE import TSNE \n",
    "import pandas as pd\n",
    "import matplotlib.pyplot as plt\n",
    "from matplotlib.pyplot import cm\n",
    "import numpy as np\n",
    "import seaborn as sns\n",
    "import openTSNE\n",
    "#from examples import utils\n",
    "\n",
    "%config InlineBackend.figure_format = 'retina'\n",
    "%config InlineBackend.print_figure_kwargs = {'facecolor' :\"w\"}"
   ]
  },
  {
   "cell_type": "code",
   "execution_count": 2,
   "id": "1dc98f7e",
   "metadata": {},
   "outputs": [],
   "source": [
    "# import dataset\n",
    "model_result = pd.read_csv('C:\\\\Users\\\\e0431401\\\\Desktop\\\\LXW\\\\output_prob_ag.csv')\n",
    "#train = pd.read_csv('C:\\\\Users\\\\e0431401\\\\Downloads\\\\archive\\\\fashion-mnist_train.csv')\n",
    "#test = pd.read_csv('C:\\\\Users\\\\e0431401\\\\Downloads\\\\archive\\\\fashion-mnist_test.csv')"
   ]
  },
  {
   "cell_type": "code",
   "execution_count": 4,
   "id": "c65f2be8",
   "metadata": {},
   "outputs": [
    {
     "data": {
      "text/plain": [
       "(60000, 785)"
      ]
     },
     "execution_count": 4,
     "metadata": {},
     "output_type": "execute_result"
    }
   ],
   "source": [
    "np.shape(train)"
   ]
  },
  {
   "cell_type": "code",
   "execution_count": 5,
   "id": "e0f84ef6",
   "metadata": {},
   "outputs": [
    {
     "data": {
      "text/plain": [
       "(10000, 785)"
      ]
     },
     "execution_count": 5,
     "metadata": {},
     "output_type": "execute_result"
    }
   ],
   "source": [
    "np.shape(test)"
   ]
  },
  {
   "cell_type": "code",
   "execution_count": 3,
   "id": "4fc892f1",
   "metadata": {},
   "outputs": [
    {
     "data": {
      "text/plain": [
       "(10000, 20)"
      ]
     },
     "execution_count": 3,
     "metadata": {},
     "output_type": "execute_result"
    }
   ],
   "source": [
    "np.shape(model_result)"
   ]
  },
  {
   "cell_type": "code",
   "execution_count": 4,
   "id": "6fd12627",
   "metadata": {},
   "outputs": [
    {
     "data": {
      "text/html": [
       "<div>\n",
       "<style scoped>\n",
       "    .dataframe tbody tr th:only-of-type {\n",
       "        vertical-align: middle;\n",
       "    }\n",
       "\n",
       "    .dataframe tbody tr th {\n",
       "        vertical-align: top;\n",
       "    }\n",
       "\n",
       "    .dataframe thead th {\n",
       "        text-align: right;\n",
       "    }\n",
       "</style>\n",
       "<table border=\"1\" class=\"dataframe\">\n",
       "  <thead>\n",
       "    <tr style=\"text-align: right;\">\n",
       "      <th></th>\n",
       "      <th>0</th>\n",
       "      <th>1</th>\n",
       "      <th>2</th>\n",
       "      <th>3</th>\n",
       "      <th>4</th>\n",
       "      <th>5</th>\n",
       "      <th>6</th>\n",
       "      <th>7</th>\n",
       "      <th>8</th>\n",
       "      <th>9</th>\n",
       "      <th>10</th>\n",
       "      <th>11</th>\n",
       "      <th>12</th>\n",
       "      <th>13</th>\n",
       "      <th>14</th>\n",
       "      <th>15</th>\n",
       "      <th>16</th>\n",
       "      <th>17</th>\n",
       "      <th>18</th>\n",
       "      <th>19</th>\n",
       "    </tr>\n",
       "  </thead>\n",
       "  <tbody>\n",
       "    <tr>\n",
       "      <th>0</th>\n",
       "      <td>-13.157907</td>\n",
       "      <td>-15.984727</td>\n",
       "      <td>-15.265772</td>\n",
       "      <td>-15.648609</td>\n",
       "      <td>-13.861909</td>\n",
       "      <td>-8.752279</td>\n",
       "      <td>-15.319042</td>\n",
       "      <td>-5.574798</td>\n",
       "      <td>-11.363718</td>\n",
       "      <td>-0.003973</td>\n",
       "      <td>-13.726641</td>\n",
       "      <td>-16.786366</td>\n",
       "      <td>-14.465547</td>\n",
       "      <td>-16.25341</td>\n",
       "      <td>-14.203761</td>\n",
       "      <td>-7.849317</td>\n",
       "      <td>-15.913630</td>\n",
       "      <td>-6.081603</td>\n",
       "      <td>-12.390832</td>\n",
       "      <td>-0.002685</td>\n",
       "    </tr>\n",
       "    <tr>\n",
       "      <th>1</th>\n",
       "      <td>-7.868055</td>\n",
       "      <td>-16.729311</td>\n",
       "      <td>-0.008573</td>\n",
       "      <td>-13.146019</td>\n",
       "      <td>-4.849840</td>\n",
       "      <td>-17.321301</td>\n",
       "      <td>-8.078411</td>\n",
       "      <td>-20.924368</td>\n",
       "      <td>-11.351968</td>\n",
       "      <td>-14.660360</td>\n",
       "      <td>-7.451914</td>\n",
       "      <td>-16.769459</td>\n",
       "      <td>-0.003326</td>\n",
       "      <td>-13.57392</td>\n",
       "      <td>-6.117052</td>\n",
       "      <td>-17.788265</td>\n",
       "      <td>-7.548481</td>\n",
       "      <td>-21.231863</td>\n",
       "      <td>-11.977738</td>\n",
       "      <td>-14.605773</td>\n",
       "    </tr>\n",
       "  </tbody>\n",
       "</table>\n",
       "</div>"
      ],
      "text/plain": [
       "           0          1          2          3          4          5  \\\n",
       "0 -13.157907 -15.984727 -15.265772 -15.648609 -13.861909  -8.752279   \n",
       "1  -7.868055 -16.729311  -0.008573 -13.146019  -4.849840 -17.321301   \n",
       "\n",
       "           6          7          8          9         10         11  \\\n",
       "0 -15.319042  -5.574798 -11.363718  -0.003973 -13.726641 -16.786366   \n",
       "1  -8.078411 -20.924368 -11.351968 -14.660360  -7.451914 -16.769459   \n",
       "\n",
       "          12        13         14         15         16         17         18  \\\n",
       "0 -14.465547 -16.25341 -14.203761  -7.849317 -15.913630  -6.081603 -12.390832   \n",
       "1  -0.003326 -13.57392  -6.117052 -17.788265  -7.548481 -21.231863 -11.977738   \n",
       "\n",
       "          19  \n",
       "0  -0.002685  \n",
       "1 -14.605773  "
      ]
     },
     "execution_count": 4,
     "metadata": {},
     "output_type": "execute_result"
    }
   ],
   "source": [
    "\n",
    "X = model_result\n",
    "X.head(2)"
   ]
  },
  {
   "cell_type": "code",
   "execution_count": 5,
   "id": "1fba5625",
   "metadata": {},
   "outputs": [],
   "source": [
    "X = np.array(X)\n",
    "#Y = np.array(Y)"
   ]
  },
  {
   "cell_type": "code",
   "execution_count": 6,
   "id": "03b6bc39",
   "metadata": {},
   "outputs": [
    {
     "data": {
      "text/plain": [
       "(10000, 20)"
      ]
     },
     "execution_count": 6,
     "metadata": {},
     "output_type": "execute_result"
    }
   ],
   "source": [
    "X.shape\n"
   ]
  },
  {
   "cell_type": "code",
   "execution_count": 7,
   "id": "5b3d2850",
   "metadata": {},
   "outputs": [
    {
     "name": "stdout",
     "output_type": "stream",
     "text": [
      "Wall time: 39.3 s\n"
     ]
    }
   ],
   "source": [
    "%%time\n",
    "embedding_train = TSNE(\n",
    "    perplexity = 81, \n",
    "    initialization = 'pca', \n",
    "    metric = 'euclidean', \n",
    "    n_jobs = 8, \n",
    "    random_state = 3).fit(X)\n",
    "\n",
    "## perlpexity should be log(n)^2, n is datasize"
   ]
  },
  {
   "cell_type": "code",
   "execution_count": 8,
   "id": "53e06f57",
   "metadata": {},
   "outputs": [],
   "source": [
    "# t-SNE plot\n",
    "embedding_train = pd.DataFrame(embedding_train)\n",
    "\n",
    "type(embedding_train)\n",
    "embedding_train.to_csv('C:\\\\Users\\\\e0431401\\\\Desktop\\\\LXW\\\\em_test_ag.csv') "
   ]
  },
  {
   "cell_type": "code",
   "execution_count": 171,
   "id": "83f5d6c2",
   "metadata": {},
   "outputs": [],
   "source": []
  },
  {
   "cell_type": "code",
   "execution_count": 175,
   "id": "a1e94863",
   "metadata": {},
   "outputs": [
    {
     "ename": "TypeError",
     "evalue": "plot() missing 1 required positional argument: 'y'",
     "output_type": "error",
     "traceback": [
      "\u001b[1;31m---------------------------------------------------------------------------\u001b[0m",
      "\u001b[1;31mTypeError\u001b[0m                                 Traceback (most recent call last)",
      "Input \u001b[1;32mIn [175]\u001b[0m, in \u001b[0;36m<cell line: 1>\u001b[1;34m()\u001b[0m\n\u001b[1;32m----> 1\u001b[0m \u001b[43mplot\u001b[49m\u001b[43m(\u001b[49m\u001b[43membedding_train\u001b[49m\u001b[43m)\u001b[49m\n",
      "\u001b[1;31mTypeError\u001b[0m: plot() missing 1 required positional argument: 'y'"
     ]
    }
   ],
   "source": []
  },
  {
   "cell_type": "code",
   "execution_count": 173,
   "id": "eea5abe6",
   "metadata": {},
   "outputs": [],
   "source": []
  },
  {
   "cell_type": "code",
   "execution_count": null,
   "id": "216eb43e",
   "metadata": {},
   "outputs": [],
   "source": []
  }
 ],
 "metadata": {
  "kernelspec": {
   "display_name": "Python 3 (ipykernel)",
   "language": "python",
   "name": "python3"
  },
  "language_info": {
   "codemirror_mode": {
    "name": "ipython",
    "version": 3
   },
   "file_extension": ".py",
   "mimetype": "text/x-python",
   "name": "python",
   "nbconvert_exporter": "python",
   "pygments_lexer": "ipython3",
   "version": "3.10.6"
  }
 },
 "nbformat": 4,
 "nbformat_minor": 5
}
